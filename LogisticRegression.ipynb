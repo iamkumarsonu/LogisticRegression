{
 "cells": [
  {
   "cell_type": "code",
   "execution_count": 8,
   "id": "de915405-cf57-4924-afc3-f89e322c1c72",
   "metadata": {},
   "outputs": [
    {
     "data": {
      "text/plain": [
       "array([0.4116021 , 0.63656843])"
      ]
     },
     "execution_count": 8,
     "metadata": {},
     "output_type": "execute_result"
    }
   ],
   "source": [
    "import math\n",
    "import numpy as np\n",
    "class LogisticRegression():\n",
    "    def __init__(self,learning_rate,epochs):\n",
    "        self.lr = learning_rate\n",
    "        self.epochs = epochs\n",
    "        self.coeff = None\n",
    "        self.bias = None\n",
    "    def sigmoid(self, z):\n",
    "        return 1 / (1 + np.exp(-z))  # Use np.exp for element-wise exponentiation\n",
    "\n",
    "    def forward(self, x):\n",
    "        z = np.dot(x, self.coeff) + self.bias\n",
    "        return self.sigmoid(z)\n",
    "    def fit(self,x,y):\n",
    "        self.coeff = np.zeros(x.shape[1])\n",
    "        self.bias = 0\n",
    "        for i in range(self.epochs):\n",
    "            prediction = self.forward(x)\n",
    "            dw = np.dot(x.T,y-prediction)\n",
    "            db = y-prediction\n",
    "            self.coeff = self.coeff + ((self.lr*dw)/len(x))\n",
    "            self.bias = self.bias + ((self.lr*db)/len(x))\n",
    "    def predict(self,x):\n",
    "        return self.forward(x)        \n",
    "x = np.asarray([[1,2,3],[3,4,5]])\n",
    "y = np.asarray([0.1,0.8])\n",
    "model = LogisticRegression(0.01,200)\n",
    "model.fit(x,y)\n",
    "model.coeff\n",
    "model.bias\n",
    "model.predict(x)"
   ]
  },
  {
   "cell_type": "code",
   "execution_count": null,
   "id": "8c46f2dc-f222-41e5-af96-21e56d2f7165",
   "metadata": {},
   "outputs": [],
   "source": []
  }
 ],
 "metadata": {
  "kernelspec": {
   "display_name": "Python 3 (ipykernel)",
   "language": "python",
   "name": "python3"
  },
  "language_info": {
   "codemirror_mode": {
    "name": "ipython",
    "version": 3
   },
   "file_extension": ".py",
   "mimetype": "text/x-python",
   "name": "python",
   "nbconvert_exporter": "python",
   "pygments_lexer": "ipython3",
   "version": "3.9.0"
  }
 },
 "nbformat": 4,
 "nbformat_minor": 5
}
